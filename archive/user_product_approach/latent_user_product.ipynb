{
 "cells": [
  {
   "cell_type": "code",
   "execution_count": 1,
   "id": "5431c563-f5e0-4b9b-bba3-2906330ec4e4",
   "metadata": {},
   "outputs": [
    {
     "name": "stdout",
     "output_type": "stream",
     "text": [
      "Loading preprocessed Parquet files...... Done!\n"
     ]
    }
   ],
   "source": [
    "import pandas as pd\n",
    "import numpy as np\n",
    "\n",
    "from preprocess_data import load_preprocessed_data\n",
    "\n",
    "train_df, test_df = load_preprocessed_data()"
   ]
  },
  {
   "cell_type": "code",
   "execution_count": 2,
   "id": "cbb188f8-1393-4966-9ac4-1a836f4d458a",
   "metadata": {},
   "outputs": [],
   "source": [
    "import torch\n",
    "from torch.utils.data import Dataset, DataLoader\n",
    "import pandas as pd\n",
    "\n",
    "class UserProductDataset(Dataset):\n",
    "    def __init__(self, df):\n",
    "        # Encode UserId and ProductId as categorical codes\n",
    "        self.users = torch.tensor(df['UserId'].astype('category').cat.codes.values, dtype=torch.long)  # Long for embedding layers\n",
    "        self.products = torch.tensor(df['ProductId'].astype('category').cat.codes.values, dtype=torch.long)\n",
    "        self.scores = torch.tensor(df['Score'].values, dtype=torch.float32)\n",
    "\n",
    "        # Store the number of users and products for embedding layer dimensions\n",
    "        self.n_users = len(df['UserId'].unique())\n",
    "        self.n_products = len(df['ProductId'].unique())\n",
    "\n",
    "    def __len__(self):\n",
    "        return len(self.scores)\n",
    "\n",
    "    def __getitem__(self, idx):\n",
    "        return self.users[idx], self.products[idx], self.scores[idx]\n",
    "\n",
    "# Split data into train and validation sets\n",
    "train_size = int(0.8 * len(train_df))\n",
    "val_size = len(train_df) - train_size\n",
    "train_data, val_data = torch.utils.data.random_split(train_df, [train_size, val_size])\n",
    "\n",
    "# Create PyTorch datasets\n",
    "train_dataset = UserProductDataset(train_data.dataset.iloc[train_data.indices])\n",
    "val_dataset = UserProductDataset(val_data.dataset.iloc[val_data.indices])\n",
    "\n",
    "# Create DataLoaders with multi-threading for faster data loading, larger batch size, and pinning memory for GPU\n",
    "train_loader = DataLoader(train_dataset, batch_size=4096, shuffle=True, num_workers=4, pin_memory=True)\n",
    "val_loader = DataLoader(val_dataset, batch_size=4096, shuffle=False, num_workers=4, pin_memory=True)\n"
   ]
  },
  {
   "cell_type": "code",
   "execution_count": 3,
   "id": "c1c03930-54db-455a-8801-ada2f82e5988",
   "metadata": {},
   "outputs": [
    {
     "data": {
      "text/plain": [
       "tensor([1, 2, 3], device='cuda:0')"
      ]
     },
     "execution_count": 3,
     "metadata": {},
     "output_type": "execute_result"
    }
   ],
   "source": [
    "torch.tensor([1,2,3]).to(\"cuda\")  # NOTE this is an important catch for weird CUDA errors"
   ]
  },
  {
   "cell_type": "code",
   "execution_count": 4,
   "id": "bbc538db-f1b6-44c8-af17-ea8a4ee28762",
   "metadata": {},
   "outputs": [
    {
     "name": "stdout",
     "output_type": "stream",
     "text": [
      "User tensor sample: 44444\n",
      "Product tensor sample: 42347\n"
     ]
    },
    {
     "data": {
      "text/plain": [
       "MatrixFactorizationModel(\n",
       "  (user_factors): Embedding(123826, 50)\n",
       "  (product_factors): Embedding(50034, 50)\n",
       ")"
      ]
     },
     "execution_count": 4,
     "metadata": {},
     "output_type": "execute_result"
    }
   ],
   "source": [
    "import torch.nn as nn\n",
    "import torch.optim as optim\n",
    "\n",
    "class MatrixFactorizationModel(nn.Module):\n",
    "    def __init__(self, n_users, n_products, n_factors=50):\n",
    "        super(MatrixFactorizationModel, self).__init__()\n",
    "        self.user_factors = nn.Embedding(n_users, n_factors)  # User embedding\n",
    "        self.product_factors = nn.Embedding(n_products, n_factors)  # Product embedding\n",
    "\n",
    "    def forward(self, user, product):\n",
    "        user_embedding = self.user_factors(user)  # Shape: (batch_size, n_factors)\n",
    "        product_embedding = self.product_factors(product)  # Shape: (batch_size, n_factors)\n",
    "        \n",
    "        prediction = (user_embedding * product_embedding).sum(1)  # Dot product\n",
    "        return prediction\n",
    "\n",
    "print(f\"User tensor sample: {train_dataset[0][0]}\")  # Should print a user ID as an integer\n",
    "print(f\"Product tensor sample: {train_dataset[0][1]}\")  # Should print a product ID as an integer\n",
    "\n",
    "\n",
    "# Initialize the model\n",
    "n_factors = 50  # Number of latent factors\n",
    "model = MatrixFactorizationModel(train_dataset.n_users, train_dataset.n_products, n_factors)\n",
    "\n",
    "# Move model to GPU\n",
    "device = torch.device(\"cuda\" if torch.cuda.is_available() else \"cpu\")\n",
    "model.to(device)\n"
   ]
  },
  {
   "cell_type": "code",
   "execution_count": 5,
   "id": "3649babd-e4f5-4258-8b99-a8269dcd069b",
   "metadata": {},
   "outputs": [],
   "source": [
    "loss_fn = nn.L1Loss()"
   ]
  },
  {
   "cell_type": "code",
   "execution_count": 6,
   "id": "1a42b7be-a95b-4aa7-85c6-7ae5336c0994",
   "metadata": {},
   "outputs": [
    {
     "name": "stdout",
     "output_type": "stream",
     "text": [
      "True\n",
      "True\n"
     ]
    }
   ],
   "source": [
    "for param in model.parameters():\n",
    "    print(param.requires_grad)"
   ]
  },
  {
   "cell_type": "code",
   "execution_count": 7,
   "id": "97c2c582-400a-46e8-a1d5-f9c5ec7a0dee",
   "metadata": {},
   "outputs": [
    {
     "name": "stdout",
     "output_type": "stream",
     "text": [
      "Epoch 1/10, Train Loss (L1): 6.5725, Val Loss (L1): 6.5906\n",
      "Epoch 2/10, Train Loss (L1): 6.1603, Val Loss (L1): 6.5493\n",
      "Epoch 3/10, Train Loss (L1): 5.7664, Val Loss (L1): 6.5125\n",
      "Epoch 4/10, Train Loss (L1): 5.4033, Val Loss (L1): 6.4798\n",
      "Epoch 5/10, Train Loss (L1): 5.0670, Val Loss (L1): 6.4510\n",
      "Epoch 6/10, Train Loss (L1): 4.7569, Val Loss (L1): 6.4261\n",
      "Epoch 7/10, Train Loss (L1): 4.4726, Val Loss (L1): 6.4040\n",
      "Epoch 8/10, Train Loss (L1): 4.2085, Val Loss (L1): 6.3851\n",
      "Epoch 9/10, Train Loss (L1): 3.9663, Val Loss (L1): 6.3685\n",
      "Epoch 10/10, Train Loss (L1): 3.7422, Val Loss (L1): 6.3544\n"
     ]
    }
   ],
   "source": [
    "optimizer = torch.optim.Adam(model.parameters(), lr=0.001)\n",
    "\n",
    "def train(model, train_loader, optimizer, loss_fn, device):\n",
    "    model.train()\n",
    "    total_loss = 0\n",
    "    for user, product, score in train_loader:\n",
    "        # Move data to GPU\n",
    "        user, product, score = user.to(device, non_blocking=True), product.to(device, non_blocking=True), score.to(device, non_blocking=True)\n",
    "\n",
    "        optimizer.zero_grad()\n",
    "        predictions = model(user, product)\n",
    "        loss = loss_fn(predictions, score)\n",
    "        loss.backward()\n",
    "        optimizer.step()\n",
    "        total_loss += loss.item()\n",
    "\n",
    "    return total_loss / len(train_loader)\n",
    "\n",
    "def validate(model, val_loader, loss_fn, device):\n",
    "    model.eval()\n",
    "    total_loss = 0\n",
    "    with torch.no_grad():\n",
    "        for user, product, score in val_loader:\n",
    "            # Move data to GPU\n",
    "            user, product, score = user.to(device, non_blocking=True), product.to(device, non_blocking=True), score.to(device, non_blocking=True)\n",
    "            predictions = model(user, product)\n",
    "            loss = loss_fn(predictions, score)\n",
    "            total_loss += loss.item()\n",
    "\n",
    "    return total_loss / len(val_loader)\n",
    "\n",
    "# Training loop\n",
    "n_epochs = 10\n",
    "\n",
    "for epoch in range(n_epochs):\n",
    "    train_loss = train(model, train_loader, optimizer, loss_fn, device)\n",
    "    val_loss = validate(model, val_loader, loss_fn, device)\n",
    "    \n",
    "    print(f\"Epoch {epoch + 1}/{n_epochs}, Train Loss (L1): {train_loss:.4f}, Val Loss (L1): {val_loss:.4f}\")"
   ]
  },
  {
   "cell_type": "code",
   "execution_count": 8,
   "id": "eca0fde0-d36b-465f-91b4-315b94c858a2",
   "metadata": {},
   "outputs": [
    {
     "name": "stdout",
     "output_type": "stream",
     "text": [
      "Epoch 1/10, Train Loss (L1): 3.5350, Val Loss (L1): 6.3421\n",
      "Epoch 2/10, Train Loss (L1): 3.3426, Val Loss (L1): 6.3318\n",
      "Epoch 3/10, Train Loss (L1): 3.1627, Val Loss (L1): 6.3229\n",
      "Epoch 4/10, Train Loss (L1): 2.9971, Val Loss (L1): 6.3153\n",
      "Epoch 5/10, Train Loss (L1): 2.8416, Val Loss (L1): 6.3090\n",
      "Epoch 6/10, Train Loss (L1): 2.6980, Val Loss (L1): 6.3039\n",
      "Epoch 7/10, Train Loss (L1): 2.5652, Val Loss (L1): 6.2992\n",
      "Epoch 8/10, Train Loss (L1): 2.4408, Val Loss (L1): 6.2966\n",
      "Epoch 9/10, Train Loss (L1): 2.3245, Val Loss (L1): 6.2933\n",
      "Epoch 10/10, Train Loss (L1): 2.2163, Val Loss (L1): 6.2915\n"
     ]
    }
   ],
   "source": [
    "for epoch in range(n_epochs):\n",
    "    train_loss = train(model, train_loader, optimizer, loss_fn, device)\n",
    "    val_loss = validate(model, val_loader, loss_fn, device)\n",
    "    \n",
    "    print(f\"Epoch {epoch + 1}/{n_epochs}, Train Loss (L1): {train_loss:.4f}, Val Loss (L1): {val_loss:.4f}\")"
   ]
  },
  {
   "cell_type": "code",
   "execution_count": 10,
   "id": "5eea5d82-92f9-46cb-a0d0-346c4e7b5852",
   "metadata": {},
   "outputs": [
    {
     "name": "stdout",
     "output_type": "stream",
     "text": [
      "tensor([-8.,  6.,  4.,  ..., -5., -5.,  3.], device='cuda:0') tensor([5., 4., 3.,  ..., 5., 5., 5.], device='cuda:0')\n",
      "tensor([4., 5., 1.,  ..., 2., 3., 3.], device='cuda:0') tensor([3., 1., 4.,  ..., 5., 4., 4.], device='cuda:0')\n",
      "tensor([-9.,  8., -8.,  ...,  0., -2.,  2.], device='cuda:0') tensor([5., 1., 4.,  ..., 3., 1., 5.], device='cuda:0')\n",
      "tensor([15., -3.,  7.,  ...,  3.,  5.,  3.], device='cuda:0') tensor([5., 5., 4.,  ..., 4., 5., 4.], device='cuda:0')\n",
      "tensor([ -1.,  -4.,   3.,  ...,   2., -12.,  -2.], device='cuda:0') tensor([5., 5., 5.,  ..., 4., 5., 4.], device='cuda:0')\n",
      "tensor([ -7.,  -3.,  15.,  ..., -11.,   6.,  -0.], device='cuda:0') tensor([5., 3., 5.,  ..., 5., 5., 5.], device='cuda:0')\n",
      "tensor([  2.,  17.,   3.,  ...,  16., -13.,  -6.], device='cuda:0') tensor([4., 5., 1.,  ..., 5., 3., 5.], device='cuda:0')\n",
      "tensor([-3.,  5.,  2.,  ...,  1.,  5.,  7.], device='cuda:0') tensor([5., 4., 5.,  ..., 5., 4., 5.], device='cuda:0')\n",
      "tensor([ -4.,  -7.,   1.,  ...,  -8.,   4., -10.], device='cuda:0') tensor([5., 3., 5.,  ..., 4., 5., 4.], device='cuda:0')\n",
      "tensor([-11.,   1.,  -1.,  ...,  10., -11.,   1.], device='cuda:0') tensor([5., 4., 3.,  ..., 5., 2., 3.], device='cuda:0')\n",
      "tensor([-0.,  3., -3.,  ...,  8., -1.,  5.], device='cuda:0') tensor([3., 5., 4.,  ..., 5., 4., 5.], device='cuda:0')\n",
      "tensor([-4., -1.,  2.,  ...,  1., -8.,  3.], device='cuda:0') tensor([5., 4., 4.,  ..., 5., 4., 5.], device='cuda:0')\n",
      "tensor([-8.,  7., -4.,  ..., -5.,  7.,  4.], device='cuda:0') tensor([5., 4., 3.,  ..., 4., 5., 4.], device='cuda:0')\n",
      "tensor([-2., -5.,  2.,  ..., -1., 17., -7.], device='cuda:0') tensor([4., 2., 5.,  ..., 5., 3., 5.], device='cuda:0')\n",
      "tensor([  3.,  -6., -24.,  ...,   9., -11., -10.], device='cuda:0') tensor([5., 5., 1.,  ..., 5., 4., 5.], device='cuda:0')\n",
      "tensor([ 8., -6., -9.,  ..., -3., -4., -9.], device='cuda:0') tensor([4., 4., 1.,  ..., 5., 4., 3.], device='cuda:0')\n",
      "tensor([10.,  4.,  4.,  ..., -5., -3.,  7.], device='cuda:0') tensor([5., 5., 5.,  ..., 5., 5., 5.], device='cuda:0')\n",
      "tensor([-5., -8.,  1.,  ...,  7.,  9., -8.], device='cuda:0') tensor([5., 4., 3.,  ..., 5., 5., 5.], device='cuda:0')\n",
      "tensor([  3.,   8.,   2.,  ..., -12., -17.,   1.], device='cuda:0') tensor([5., 4., 5.,  ..., 4., 5., 2.], device='cuda:0')\n",
      "tensor([ 1.,  0.,  0.,  ...,  2.,  7., -5.], device='cuda:0') tensor([1., 5., 5.,  ..., 4., 5., 5.], device='cuda:0')\n",
      "tensor([-5.,  4.,  3.,  ...,  0.,  3., -6.], device='cuda:0') tensor([1., 4., 5.,  ..., 5., 4., 2.], device='cuda:0')\n",
      "tensor([ 4., 12., -0.,  ...,  3., -3.,  9.], device='cuda:0') tensor([5., 5., 4.,  ..., 5., 5., 4.], device='cuda:0')\n",
      "tensor([-2.,  2.,  1.,  ..., -3., 10.,  9.], device='cuda:0') tensor([5., 5., 5.,  ..., 4., 5., 5.], device='cuda:0')\n",
      "tensor([  5.,   1.,  -1.,  ...,   7.,   7., -10.], device='cuda:0') tensor([1., 2., 5.,  ..., 5., 5., 2.], device='cuda:0')\n",
      "tensor([-13.,  -3.,   2.,  ...,  -5.,   5.,  -5.], device='cuda:0') tensor([4., 5., 1.,  ..., 5., 5., 3.], device='cuda:0')\n",
      "tensor([ 3., -6., -3.,  ..., -3.,  1.,  4.], device='cuda:0') tensor([4., 1., 5.,  ..., 5., 4., 3.], device='cuda:0')\n",
      "tensor([ 8.,  3., -1.,  ...,  4.,  3.,  2.], device='cuda:0') tensor([4., 2., 1.,  ..., 5., 1., 5.], device='cuda:0')\n",
      "tensor([-1.,  4., 23.,  ...,  6., 11., -5.], device='cuda:0') tensor([5., 5., 5.,  ..., 5., 5., 5.], device='cuda:0')\n",
      "tensor([-6.,  3.,  0.,  ...,  8., -2., 11.], device='cuda:0') tensor([4., 5., 4.,  ..., 5., 5., 4.], device='cuda:0')\n",
      "tensor([-7.,  5.,  4.,  ..., -3.,  1., -1.], device='cuda:0') tensor([5., 5., 5.,  ..., 4., 5., 5.], device='cuda:0')\n",
      "tensor([10., -6., -9.,  ..., -6., 11., -1.], device='cuda:0') tensor([5., 5., 5.,  ..., 5., 4., 4.], device='cuda:0')\n",
      "tensor([-5.,  7.,  1.,  ...,  1., -2., -8.], device='cuda:0') tensor([5., 5., 4.,  ..., 5., 3., 1.], device='cuda:0')\n",
      "tensor([20., 10., -0.,  ...,  5., -5., -5.], device='cuda:0') tensor([4., 4., 4.,  ..., 3., 3., 3.], device='cuda:0')\n",
      "tensor([  5.,  -5.,  -4.,  ...,  -2.,   3., -12.], device='cuda:0') tensor([4., 5., 5.,  ..., 5., 2., 1.], device='cuda:0')\n",
      "tensor([  2.,  -2.,   2.,  ...,   3., -14., -14.], device='cuda:0') tensor([3., 5., 4.,  ..., 5., 4., 1.], device='cuda:0')\n",
      "tensor([ -1., -12.,  -3.,  ...,  -1.,   8.,  10.], device='cuda:0') tensor([5., 3., 5.,  ..., 5., 5., 5.], device='cuda:0')\n",
      "tensor([  8.,  -0.,  -6.,  ...,  -3., -15.,  -6.], device='cuda:0') tensor([3., 5., 5.,  ..., 2., 3., 3.], device='cuda:0')\n",
      "tensor([ 0.,  3.,  0.,  ...,  9.,  4., -4.], device='cuda:0') tensor([5., 3., 5.,  ..., 4., 5., 4.], device='cuda:0')\n",
      "tensor([ -1.,   0.,   4.,  ..., -11.,   8.,   1.], device='cuda:0') tensor([4., 4., 5.,  ..., 1., 5., 4.], device='cuda:0')\n",
      "tensor([-8., 18., -5.,  ...,  8.,  7.,  2.], device='cuda:0') tensor([4., 4., 5.,  ..., 3., 4., 5.], device='cuda:0')\n",
      "tensor([ 5., -3.,  8.,  ..., -7.,  8., -9.], device='cuda:0') tensor([5., 5., 2.,  ..., 5., 4., 4.], device='cuda:0')\n",
      "tensor([ 5., -5.,  6.,  ..., -5., -8.,  1.], device='cuda:0') tensor([3., 4., 5.,  ..., 5., 4., 4.], device='cuda:0')\n",
      "tensor([-7., -5.,  3.,  ..., -4., -2.,  3.], device='cuda:0') tensor([5., 5., 4.,  ..., 3., 3., 4.], device='cuda:0')\n",
      "tensor([ 12.,  14.,   1.,  ..., -14., -11., -13.], device='cuda:0') tensor([2., 5., 4.,  ..., 4., 5., 5.], device='cuda:0')\n",
      "tensor([-4.,  0., -4.,  ..., 16., 11.,  3.], device='cuda:0') tensor([2., 5., 5.,  ..., 5., 5., 5.], device='cuda:0')\n",
      "tensor([ -3.,  -2.,   4.,  ...,   8.,   8., -14.], device='cuda:0') tensor([5., 5., 3.,  ..., 4., 4., 5.], device='cuda:0')\n",
      "tensor([-14.,  -4.,  -5.,  ...,  -5.,  -6.,   4.], device='cuda:0') tensor([5., 4., 5.,  ..., 4., 5., 4.], device='cuda:0')\n",
      "tensor([  4., -10.,   1.,  ...,  -4.,   3.,   0.], device='cuda:0') tensor([5., 5., 5.,  ..., 2., 3., 4.], device='cuda:0')\n",
      "tensor([ 6., -8., 14.,  ..., -4.,  1.,  1.], device='cuda:0') tensor([5., 1., 5.,  ..., 4., 5., 1.], device='cuda:0')\n",
      "tensor([ 4., -9., -1.,  ..., -3., -7., -5.], device='cuda:0') tensor([5., 5., 2.,  ..., 5., 5., 4.], device='cuda:0')\n",
      "tensor([ -3.,  -7.,  -0.,  ..., -17.,   3.,  -2.], device='cuda:0') tensor([5., 5., 5.,  ..., 4., 5., 5.], device='cuda:0')\n",
      "tensor([-5., 11., -2.,  ...,  0., -7., -4.], device='cuda:0') tensor([5., 5., 4.,  ..., 1., 4., 5.], device='cuda:0')\n",
      "tensor([ -7.,  -1., -10.,  ...,   2.,   6.,   8.], device='cuda:0') tensor([5., 5., 5.,  ..., 3., 1., 5.], device='cuda:0')\n",
      "tensor([-3., -2., -2.,  ..., -0.,  1., -9.], device='cuda:0') tensor([3., 1., 5.,  ..., 4., 5., 4.], device='cuda:0')\n",
      "tensor([-11.,  10.,  -4.,  ...,   1.,  -2.,   3.], device='cuda:0') tensor([2., 3., 5.,  ..., 5., 4., 4.], device='cuda:0')\n",
      "tensor([-11.,  -1.,   7.,  ...,   9.,   6.,  -6.], device='cuda:0') tensor([4., 5., 5.,  ..., 5., 4., 5.], device='cuda:0')\n",
      "tensor([  6.,  -8.,  -9.,  ...,  17.,  -9., -10.], device='cuda:0') tensor([5., 5., 5.,  ..., 5., 5., 5.], device='cuda:0')\n",
      "tensor([-3., -3., -3.,  ..., -0.,  4., -1.], device='cuda:0') tensor([4., 5., 4.,  ..., 5., 5., 5.], device='cuda:0')\n",
      "tensor([-7.,  5., 12.,  ..., -1.,  4., -1.], device='cuda:0') tensor([5., 5., 2.,  ..., 5., 5., 5.], device='cuda:0')\n",
      "tensor([1., 2., 6.,  ..., -0., 4., 1.], device='cuda:0') tensor([5., 5., 5.,  ..., 2., 5., 4.], device='cuda:0')\n",
      "tensor([  4.,   2., -18.,  ...,  -6.,  -1.,  -4.], device='cuda:0') tensor([5., 5., 5.,  ..., 5., 5., 5.], device='cuda:0')\n",
      "tensor([-5.,  3., -5.,  ..., -8.,  4., -0.], device='cuda:0') tensor([3., 5., 3.,  ..., 5., 4., 5.], device='cuda:0')\n",
      "tensor([13.,  9.,  6.,  ..., -3., 18., -5.], device='cuda:0') tensor([4., 2., 5.,  ..., 5., 5., 5.], device='cuda:0')\n",
      "tensor([-9.,  9., -3.,  ..., -4., -1., -4.], device='cuda:0') tensor([4., 4., 5.,  ..., 2., 5., 4.], device='cuda:0')\n",
      "tensor([ 3.,  1., -1.,  ...,  1., 11.,  6.], device='cuda:0') tensor([4., 5., 4.,  ..., 5., 5., 2.], device='cuda:0')\n",
      "tensor([-10.,  -2.,   8.,  ...,  -3.,  -1.,   4.], device='cuda:0') tensor([5., 2., 5.,  ..., 4., 5., 2.], device='cuda:0')\n",
      "tensor([ -2.,   1.,  -3.,  ..., -11.,   6.,  -4.], device='cuda:0') tensor([4., 3., 4.,  ..., 2., 3., 2.], device='cuda:0')\n",
      "tensor([-8., -2., -8.,  ..., -1., -4.,  7.], device='cuda:0') tensor([4., 4., 4.,  ..., 1., 5., 3.], device='cuda:0')\n",
      "tensor([  7.,  12.,  10.,  ...,   4.,   9., -22.], device='cuda:0') tensor([2., 5., 5.,  ..., 5., 1., 3.], device='cuda:0')\n",
      "tensor([ 8.,  8., -2.,  ...,  2.,  1.,  8.], device='cuda:0') tensor([5., 5., 1.,  ..., 5., 5., 4.], device='cuda:0')\n",
      "tensor([-6.,  1., -7.,  ..., -2., -7., -0.], device='cuda:0') tensor([2., 4., 3.,  ..., 3., 5., 5.], device='cuda:0')\n",
      "tensor([-9.,  3., -1.,  ..., 12.,  1.,  8.], device='cuda:0') tensor([4., 3., 3.,  ..., 5., 4., 5.], device='cuda:0')\n",
      "tensor([ 2.,  3., 12.,  ...,  2.,  3.,  3.], device='cuda:0') tensor([5., 5., 3.,  ..., 2., 5., 4.], device='cuda:0')\n",
      "Validation Accuracy: 0.0496\n"
     ]
    }
   ],
   "source": [
    "def evaluate_accuracy(model, data_loader):\n",
    "    model.eval()\n",
    "    correct = 0\n",
    "    total = 0\n",
    "    with torch.no_grad():\n",
    "        for user, product, score in data_loader:\n",
    "            user, product, score = user.to(device), product.to(device), score.to(device)\n",
    "            predictions = torch.round(model(user, product))  # Round predictions to the nearest integer\n",
    "            correct += (predictions == score).sum().item()\n",
    "            total += score.size(0)\n",
    "            print(predictions, score)\n",
    "\n",
    "    return correct / total\n",
    "\n",
    "# Evaluate accuracy on the validation set\n",
    "accuracy = evaluate_accuracy(model, val_loader)\n",
    "print(f\"Validation Accuracy: {accuracy:.4f}\")"
   ]
  }
 ],
 "metadata": {
  "kernelspec": {
   "display_name": "Python 3 (ipykernel)",
   "language": "python",
   "name": "python3"
  },
  "language_info": {
   "codemirror_mode": {
    "name": "ipython",
    "version": 3
   },
   "file_extension": ".py",
   "mimetype": "text/x-python",
   "name": "python",
   "nbconvert_exporter": "python",
   "pygments_lexer": "ipython3",
   "version": "3.11.7"
  }
 },
 "nbformat": 4,
 "nbformat_minor": 5
}
