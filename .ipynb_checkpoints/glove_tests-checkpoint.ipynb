{
 "cells": [
  {
   "cell_type": "code",
   "execution_count": 3,
   "metadata": {
    "vscode": {
     "languageId": "plaintext"
    }
   },
   "outputs": [],
   "source": [
    "from gensim.models import KeyedVectors\n",
    "\n",
    "# Load GloVe embeddings in word2vec format\n",
    "glove_path = \"glove.840B.300d.word2vec.bin\"\n",
    "glove_model = KeyedVectors.load_word2vec_format(glove_path, binary=True, limit=500000)"
   ]
  },
  {
   "cell_type": "code",
   "execution_count": 4,
   "metadata": {},
   "outputs": [],
   "source": [
    "import torch\n",
    "\n",
    "vocab_size = len(glove_model.key_to_index)  # Number of words in GloVe\n",
    "embedding_dim = glove_model.vector_size  # 300 in the case of GloVe 300d\n",
    "\n",
    "# Create embedding matrix (vocab_size x embedding_dim)\n",
    "embedding_matrix = torch.zeros((vocab_size, embedding_dim))\n",
    "\n",
    "for i, word in enumerate(glove_model.key_to_index):\n",
    "    embedding_matrix[i] = torch.tensor(glove_model[word])\n",
    "\n",
    "# Use the embedding matrix with PyTorch nn.Embedding\n",
    "glove_embeddings = torch.nn.Embedding.from_pretrained(embedding_matrix, freeze=False)  # Freeze=False if you want to fine-tune"
   ]
  },
  {
   "cell_type": "code",
   "execution_count": 5,
   "metadata": {},
   "outputs": [
    {
     "data": {
      "text/plain": [
       "Embedding(500000, 300)"
      ]
     },
     "execution_count": 5,
     "metadata": {},
     "output_type": "execute_result"
    }
   ],
   "source": [
    "glove_embeddings"
   ]
  },
  {
   "cell_type": "code",
   "execution_count": 7,
   "metadata": {},
   "outputs": [
    {
     "name": "stdout",
     "output_type": "stream",
     "text": [
      "Loading preprocessed Parquet files...... Done!\n"
     ]
    },
    {
     "data": {
      "text/html": [
       "<div>\n",
       "<style scoped>\n",
       "    .dataframe tbody tr th:only-of-type {\n",
       "        vertical-align: middle;\n",
       "    }\n",
       "\n",
       "    .dataframe tbody tr th {\n",
       "        vertical-align: top;\n",
       "    }\n",
       "\n",
       "    .dataframe thead th {\n",
       "        text-align: right;\n",
       "    }\n",
       "</style>\n",
       "<table border=\"1\" class=\"dataframe\">\n",
       "  <thead>\n",
       "    <tr style=\"text-align: right;\">\n",
       "      <th></th>\n",
       "      <th>Id</th>\n",
       "      <th>ProductId</th>\n",
       "      <th>UserId</th>\n",
       "      <th>HelpfulnessNumerator</th>\n",
       "      <th>HelpfulnessDenominator</th>\n",
       "      <th>Time</th>\n",
       "      <th>Summary</th>\n",
       "      <th>Text</th>\n",
       "      <th>Score</th>\n",
       "      <th>Summary_tokens</th>\n",
       "      <th>Text_tokens</th>\n",
       "    </tr>\n",
       "  </thead>\n",
       "  <tbody>\n",
       "    <tr>\n",
       "      <th>0</th>\n",
       "      <td>914403</td>\n",
       "      <td>B0009W5KHM</td>\n",
       "      <td>AV6QDP8Q0ONK4</td>\n",
       "      <td>2</td>\n",
       "      <td>2</td>\n",
       "      <td>1341014400</td>\n",
       "      <td>GOOD FUN FILM</td>\n",
       "      <td>While most straight to DVD films are not worth...</td>\n",
       "      <td>5.0</td>\n",
       "      <td>[11230, 3727, 29397, 34020, 44]</td>\n",
       "      <td>[3633, 749, 3892, 284, 12490, 7328, 389, 407, ...</td>\n",
       "    </tr>\n",
       "    <tr>\n",
       "      <th>1</th>\n",
       "      <td>354887</td>\n",
       "      <td>6303079709</td>\n",
       "      <td>A2I8RXJN80A2D2</td>\n",
       "      <td>0</td>\n",
       "      <td>0</td>\n",
       "      <td>1168819200</td>\n",
       "      <td>Movie Review</td>\n",
       "      <td>I have wanted this one for sometime, also.  I ...</td>\n",
       "      <td>5.0</td>\n",
       "      <td>[25097, 6602]</td>\n",
       "      <td>[40, 423, 2227, 428, 530, 329, 17291, 11, 635,...</td>\n",
       "    </tr>\n",
       "    <tr>\n",
       "      <th>2</th>\n",
       "      <td>1407653</td>\n",
       "      <td>B004H0M2XC</td>\n",
       "      <td>A3FHV3RV8Z12E6</td>\n",
       "      <td>0</td>\n",
       "      <td>0</td>\n",
       "      <td>1386201600</td>\n",
       "      <td>When is it a good time to Consent?</td>\n",
       "      <td>Actually this was a pretty darn good indie fil...</td>\n",
       "      <td>4.0</td>\n",
       "      <td>[2215, 318, 340, 257, 922, 640, 284, 46869, 30]</td>\n",
       "      <td>[26417, 428, 373, 257, 2495, 39189, 922, 19907...</td>\n",
       "    </tr>\n",
       "    <tr>\n",
       "      <th>3</th>\n",
       "      <td>1377458</td>\n",
       "      <td>B003ZJ9536</td>\n",
       "      <td>A12VLTA3ZHVPUY</td>\n",
       "      <td>1</td>\n",
       "      <td>1</td>\n",
       "      <td>1348704000</td>\n",
       "      <td>TRUTH</td>\n",
       "      <td>Episodes 37 to 72 of the series press on in a ...</td>\n",
       "      <td>5.0</td>\n",
       "      <td>[5446, 24318]</td>\n",
       "      <td>[13807, 8052, 5214, 284, 7724, 286, 262, 2168,...</td>\n",
       "    </tr>\n",
       "    <tr>\n",
       "      <th>4</th>\n",
       "      <td>475323</td>\n",
       "      <td>630574453X</td>\n",
       "      <td>A13NM1PES9OXVN</td>\n",
       "      <td>2</td>\n",
       "      <td>3</td>\n",
       "      <td>970012800</td>\n",
       "      <td>Intelligent and bittersweet -- stays with you</td>\n",
       "      <td>I was really impressed with this movie, but wa...</td>\n",
       "      <td>3.0</td>\n",
       "      <td>[5317, 32940, 290, 48666, 7277, 1377, 14768, 3...</td>\n",
       "      <td>[40, 373, 1107, 12617, 351, 428, 3807, 11, 475...</td>\n",
       "    </tr>\n",
       "  </tbody>\n",
       "</table>\n",
       "</div>"
      ],
      "text/plain": [
       "        Id   ProductId          UserId  HelpfulnessNumerator  \\\n",
       "0   914403  B0009W5KHM   AV6QDP8Q0ONK4                     2   \n",
       "1   354887  6303079709  A2I8RXJN80A2D2                     0   \n",
       "2  1407653  B004H0M2XC  A3FHV3RV8Z12E6                     0   \n",
       "3  1377458  B003ZJ9536  A12VLTA3ZHVPUY                     1   \n",
       "4   475323  630574453X  A13NM1PES9OXVN                     2   \n",
       "\n",
       "   HelpfulnessDenominator        Time  \\\n",
       "0                       2  1341014400   \n",
       "1                       0  1168819200   \n",
       "2                       0  1386201600   \n",
       "3                       1  1348704000   \n",
       "4                       3   970012800   \n",
       "\n",
       "                                         Summary  \\\n",
       "0                                  GOOD FUN FILM   \n",
       "1                                   Movie Review   \n",
       "2             When is it a good time to Consent?   \n",
       "3                                          TRUTH   \n",
       "4  Intelligent and bittersweet -- stays with you   \n",
       "\n",
       "                                                Text  Score  \\\n",
       "0  While most straight to DVD films are not worth...    5.0   \n",
       "1  I have wanted this one for sometime, also.  I ...    5.0   \n",
       "2  Actually this was a pretty darn good indie fil...    4.0   \n",
       "3  Episodes 37 to 72 of the series press on in a ...    5.0   \n",
       "4  I was really impressed with this movie, but wa...    3.0   \n",
       "\n",
       "                                      Summary_tokens  \\\n",
       "0                    [11230, 3727, 29397, 34020, 44]   \n",
       "1                                      [25097, 6602]   \n",
       "2    [2215, 318, 340, 257, 922, 640, 284, 46869, 30]   \n",
       "3                                      [5446, 24318]   \n",
       "4  [5317, 32940, 290, 48666, 7277, 1377, 14768, 3...   \n",
       "\n",
       "                                         Text_tokens  \n",
       "0  [3633, 749, 3892, 284, 12490, 7328, 389, 407, ...  \n",
       "1  [40, 423, 2227, 428, 530, 329, 17291, 11, 635,...  \n",
       "2  [26417, 428, 373, 257, 2495, 39189, 922, 19907...  \n",
       "3  [13807, 8052, 5214, 284, 7724, 286, 262, 2168,...  \n",
       "4  [40, 373, 1107, 12617, 351, 428, 3807, 11, 475...  "
      ]
     },
     "execution_count": 7,
     "metadata": {},
     "output_type": "execute_result"
    }
   ],
   "source": [
    "from preprocess_data import load_data\n",
    "\n",
    "train_df, _ = load_data()"
   ]
  },
  {
   "cell_type": "code",
   "execution_count": 8,
   "metadata": {},
   "outputs": [
    {
     "name": "stderr",
     "output_type": "stream",
     "text": [
      "[nltk_data] Downloading package punkt to /home/m33039/nltk_data...\n",
      "[nltk_data]   Unzipping tokenizers/punkt.zip.\n"
     ]
    },
    {
     "ename": "NameError",
     "evalue": "name 'glove_vocab' is not defined",
     "output_type": "error",
     "traceback": [
      "\u001b[0;31m---------------------------------------------------------------------------\u001b[0m",
      "\u001b[0;31mNameError\u001b[0m                                 Traceback (most recent call last)",
      "Cell \u001b[0;32mIn[8], line 12\u001b[0m\n\u001b[1;32m      9\u001b[0m     \u001b[38;5;28;01mreturn\u001b[39;00m token_indices\n\u001b[1;32m     11\u001b[0m \u001b[38;5;66;03m# Apply this to your dataset\u001b[39;00m\n\u001b[0;32m---> 12\u001b[0m train_df[\u001b[38;5;124m'\u001b[39m\u001b[38;5;124mText_tokens_glove\u001b[39m\u001b[38;5;124m'\u001b[39m] \u001b[38;5;241m=\u001b[39m train_df[\u001b[38;5;124m'\u001b[39m\u001b[38;5;124mText\u001b[39m\u001b[38;5;124m'\u001b[39m]\u001b[38;5;241m.\u001b[39mapply(glove_tokenize)\n\u001b[1;32m     13\u001b[0m train_df[\u001b[38;5;124m'\u001b[39m\u001b[38;5;124mSummary_tokens_glove\u001b[39m\u001b[38;5;124m'\u001b[39m] \u001b[38;5;241m=\u001b[39m train_df[\u001b[38;5;124m'\u001b[39m\u001b[38;5;124mSummary\u001b[39m\u001b[38;5;124m'\u001b[39m]\u001b[38;5;241m.\u001b[39mapply(glove_tokenize)\n",
      "File \u001b[0;32m~/anaconda3/lib/python3.11/site-packages/pandas/core/series.py:4764\u001b[0m, in \u001b[0;36mSeries.apply\u001b[0;34m(self, func, convert_dtype, args, by_row, **kwargs)\u001b[0m\n\u001b[1;32m   4629\u001b[0m \u001b[38;5;28;01mdef\u001b[39;00m \u001b[38;5;21mapply\u001b[39m(\n\u001b[1;32m   4630\u001b[0m     \u001b[38;5;28mself\u001b[39m,\n\u001b[1;32m   4631\u001b[0m     func: AggFuncType,\n\u001b[0;32m   (...)\u001b[0m\n\u001b[1;32m   4636\u001b[0m     \u001b[38;5;241m*\u001b[39m\u001b[38;5;241m*\u001b[39mkwargs,\n\u001b[1;32m   4637\u001b[0m ) \u001b[38;5;241m-\u001b[39m\u001b[38;5;241m>\u001b[39m DataFrame \u001b[38;5;241m|\u001b[39m Series:\n\u001b[1;32m   4638\u001b[0m \u001b[38;5;250m    \u001b[39m\u001b[38;5;124;03m\"\"\"\u001b[39;00m\n\u001b[1;32m   4639\u001b[0m \u001b[38;5;124;03m    Invoke function on values of Series.\u001b[39;00m\n\u001b[1;32m   4640\u001b[0m \n\u001b[0;32m   (...)\u001b[0m\n\u001b[1;32m   4755\u001b[0m \u001b[38;5;124;03m    dtype: float64\u001b[39;00m\n\u001b[1;32m   4756\u001b[0m \u001b[38;5;124;03m    \"\"\"\u001b[39;00m\n\u001b[1;32m   4757\u001b[0m     \u001b[38;5;28;01mreturn\u001b[39;00m SeriesApply(\n\u001b[1;32m   4758\u001b[0m         \u001b[38;5;28mself\u001b[39m,\n\u001b[1;32m   4759\u001b[0m         func,\n\u001b[1;32m   4760\u001b[0m         convert_dtype\u001b[38;5;241m=\u001b[39mconvert_dtype,\n\u001b[1;32m   4761\u001b[0m         by_row\u001b[38;5;241m=\u001b[39mby_row,\n\u001b[1;32m   4762\u001b[0m         args\u001b[38;5;241m=\u001b[39margs,\n\u001b[1;32m   4763\u001b[0m         kwargs\u001b[38;5;241m=\u001b[39mkwargs,\n\u001b[0;32m-> 4764\u001b[0m     )\u001b[38;5;241m.\u001b[39mapply()\n",
      "File \u001b[0;32m~/anaconda3/lib/python3.11/site-packages/pandas/core/apply.py:1209\u001b[0m, in \u001b[0;36mSeriesApply.apply\u001b[0;34m(self)\u001b[0m\n\u001b[1;32m   1206\u001b[0m     \u001b[38;5;28;01mreturn\u001b[39;00m \u001b[38;5;28mself\u001b[39m\u001b[38;5;241m.\u001b[39mapply_compat()\n\u001b[1;32m   1208\u001b[0m \u001b[38;5;66;03m# self.func is Callable\u001b[39;00m\n\u001b[0;32m-> 1209\u001b[0m \u001b[38;5;28;01mreturn\u001b[39;00m \u001b[38;5;28mself\u001b[39m\u001b[38;5;241m.\u001b[39mapply_standard()\n",
      "File \u001b[0;32m~/anaconda3/lib/python3.11/site-packages/pandas/core/apply.py:1289\u001b[0m, in \u001b[0;36mSeriesApply.apply_standard\u001b[0;34m(self)\u001b[0m\n\u001b[1;32m   1283\u001b[0m \u001b[38;5;66;03m# row-wise access\u001b[39;00m\n\u001b[1;32m   1284\u001b[0m \u001b[38;5;66;03m# apply doesn't have a `na_action` keyword and for backward compat reasons\u001b[39;00m\n\u001b[1;32m   1285\u001b[0m \u001b[38;5;66;03m# we need to give `na_action=\"ignore\"` for categorical data.\u001b[39;00m\n\u001b[1;32m   1286\u001b[0m \u001b[38;5;66;03m# TODO: remove the `na_action=\"ignore\"` when that default has been changed in\u001b[39;00m\n\u001b[1;32m   1287\u001b[0m \u001b[38;5;66;03m#  Categorical (GH51645).\u001b[39;00m\n\u001b[1;32m   1288\u001b[0m action \u001b[38;5;241m=\u001b[39m \u001b[38;5;124m\"\u001b[39m\u001b[38;5;124mignore\u001b[39m\u001b[38;5;124m\"\u001b[39m \u001b[38;5;28;01mif\u001b[39;00m \u001b[38;5;28misinstance\u001b[39m(obj\u001b[38;5;241m.\u001b[39mdtype, CategoricalDtype) \u001b[38;5;28;01melse\u001b[39;00m \u001b[38;5;28;01mNone\u001b[39;00m\n\u001b[0;32m-> 1289\u001b[0m mapped \u001b[38;5;241m=\u001b[39m obj\u001b[38;5;241m.\u001b[39m_map_values(\n\u001b[1;32m   1290\u001b[0m     mapper\u001b[38;5;241m=\u001b[39mcurried, na_action\u001b[38;5;241m=\u001b[39maction, convert\u001b[38;5;241m=\u001b[39m\u001b[38;5;28mself\u001b[39m\u001b[38;5;241m.\u001b[39mconvert_dtype\n\u001b[1;32m   1291\u001b[0m )\n\u001b[1;32m   1293\u001b[0m \u001b[38;5;28;01mif\u001b[39;00m \u001b[38;5;28mlen\u001b[39m(mapped) \u001b[38;5;129;01mand\u001b[39;00m \u001b[38;5;28misinstance\u001b[39m(mapped[\u001b[38;5;241m0\u001b[39m], ABCSeries):\n\u001b[1;32m   1294\u001b[0m     \u001b[38;5;66;03m# GH#43986 Need to do list(mapped) in order to get treated as nested\u001b[39;00m\n\u001b[1;32m   1295\u001b[0m     \u001b[38;5;66;03m#  See also GH#25959 regarding EA support\u001b[39;00m\n\u001b[1;32m   1296\u001b[0m     \u001b[38;5;28;01mreturn\u001b[39;00m obj\u001b[38;5;241m.\u001b[39m_constructor_expanddim(\u001b[38;5;28mlist\u001b[39m(mapped), index\u001b[38;5;241m=\u001b[39mobj\u001b[38;5;241m.\u001b[39mindex)\n",
      "File \u001b[0;32m~/anaconda3/lib/python3.11/site-packages/pandas/core/base.py:921\u001b[0m, in \u001b[0;36mIndexOpsMixin._map_values\u001b[0;34m(self, mapper, na_action, convert)\u001b[0m\n\u001b[1;32m    918\u001b[0m \u001b[38;5;28;01mif\u001b[39;00m \u001b[38;5;28misinstance\u001b[39m(arr, ExtensionArray):\n\u001b[1;32m    919\u001b[0m     \u001b[38;5;28;01mreturn\u001b[39;00m arr\u001b[38;5;241m.\u001b[39mmap(mapper, na_action\u001b[38;5;241m=\u001b[39mna_action)\n\u001b[0;32m--> 921\u001b[0m \u001b[38;5;28;01mreturn\u001b[39;00m algorithms\u001b[38;5;241m.\u001b[39mmap_array(arr, mapper, na_action\u001b[38;5;241m=\u001b[39mna_action, convert\u001b[38;5;241m=\u001b[39mconvert)\n",
      "File \u001b[0;32m~/anaconda3/lib/python3.11/site-packages/pandas/core/algorithms.py:1814\u001b[0m, in \u001b[0;36mmap_array\u001b[0;34m(arr, mapper, na_action, convert)\u001b[0m\n\u001b[1;32m   1812\u001b[0m values \u001b[38;5;241m=\u001b[39m arr\u001b[38;5;241m.\u001b[39mastype(\u001b[38;5;28mobject\u001b[39m, copy\u001b[38;5;241m=\u001b[39m\u001b[38;5;28;01mFalse\u001b[39;00m)\n\u001b[1;32m   1813\u001b[0m \u001b[38;5;28;01mif\u001b[39;00m na_action \u001b[38;5;129;01mis\u001b[39;00m \u001b[38;5;28;01mNone\u001b[39;00m:\n\u001b[0;32m-> 1814\u001b[0m     \u001b[38;5;28;01mreturn\u001b[39;00m lib\u001b[38;5;241m.\u001b[39mmap_infer(values, mapper, convert\u001b[38;5;241m=\u001b[39mconvert)\n\u001b[1;32m   1815\u001b[0m \u001b[38;5;28;01melse\u001b[39;00m:\n\u001b[1;32m   1816\u001b[0m     \u001b[38;5;28;01mreturn\u001b[39;00m lib\u001b[38;5;241m.\u001b[39mmap_infer_mask(\n\u001b[1;32m   1817\u001b[0m         values, mapper, mask\u001b[38;5;241m=\u001b[39misna(values)\u001b[38;5;241m.\u001b[39mview(np\u001b[38;5;241m.\u001b[39muint8), convert\u001b[38;5;241m=\u001b[39mconvert\n\u001b[1;32m   1818\u001b[0m     )\n",
      "File \u001b[0;32mlib.pyx:2926\u001b[0m, in \u001b[0;36mpandas._libs.lib.map_infer\u001b[0;34m()\u001b[0m\n",
      "Cell \u001b[0;32mIn[8], line 8\u001b[0m, in \u001b[0;36mglove_tokenize\u001b[0;34m(text)\u001b[0m\n\u001b[1;32m      6\u001b[0m \u001b[38;5;28;01mdef\u001b[39;00m \u001b[38;5;21mglove_tokenize\u001b[39m(text):\n\u001b[1;32m      7\u001b[0m     tokens \u001b[38;5;241m=\u001b[39m word_tokenize(text\u001b[38;5;241m.\u001b[39mlower())  \u001b[38;5;66;03m# Lowercasing to match GloVe case\u001b[39;00m\n\u001b[0;32m----> 8\u001b[0m     token_indices \u001b[38;5;241m=\u001b[39m [glove_vocab\u001b[38;5;241m.\u001b[39mget(token, glove_vocab\u001b[38;5;241m.\u001b[39mget(\u001b[38;5;124m'\u001b[39m\u001b[38;5;124m<unk>\u001b[39m\u001b[38;5;124m'\u001b[39m, \u001b[38;5;241m0\u001b[39m)) \u001b[38;5;28;01mfor\u001b[39;00m token \u001b[38;5;129;01min\u001b[39;00m tokens]\n\u001b[1;32m      9\u001b[0m     \u001b[38;5;28;01mreturn\u001b[39;00m token_indices\n",
      "Cell \u001b[0;32mIn[8], line 8\u001b[0m, in \u001b[0;36m<listcomp>\u001b[0;34m(.0)\u001b[0m\n\u001b[1;32m      6\u001b[0m \u001b[38;5;28;01mdef\u001b[39;00m \u001b[38;5;21mglove_tokenize\u001b[39m(text):\n\u001b[1;32m      7\u001b[0m     tokens \u001b[38;5;241m=\u001b[39m word_tokenize(text\u001b[38;5;241m.\u001b[39mlower())  \u001b[38;5;66;03m# Lowercasing to match GloVe case\u001b[39;00m\n\u001b[0;32m----> 8\u001b[0m     token_indices \u001b[38;5;241m=\u001b[39m [glove_vocab\u001b[38;5;241m.\u001b[39mget(token, glove_vocab\u001b[38;5;241m.\u001b[39mget(\u001b[38;5;124m'\u001b[39m\u001b[38;5;124m<unk>\u001b[39m\u001b[38;5;124m'\u001b[39m, \u001b[38;5;241m0\u001b[39m)) \u001b[38;5;28;01mfor\u001b[39;00m token \u001b[38;5;129;01min\u001b[39;00m tokens]\n\u001b[1;32m      9\u001b[0m     \u001b[38;5;28;01mreturn\u001b[39;00m token_indices\n",
      "\u001b[0;31mNameError\u001b[0m: name 'glove_vocab' is not defined"
     ]
    }
   ],
   "source": [
    "import nltk\n",
    "nltk.download('punkt')  # Ensure you have the tokenizer data\n",
    "\n",
    "from nltk.tokenize import word_tokenize\n",
    "\n",
    "def glove_tokenize(text):\n",
    "    tokens = word_tokenize(text.lower())  # Lowercasing to match GloVe case\n",
    "    token_indices = [glove_vocab.get(token, glove_vocab.get('<unk>', 0)) for token in tokens]\n",
    "    return token_indices\n",
    "\n",
    "# Apply this to your dataset\n",
    "train_df['Text_tokens_glove'] = train_df['Text'].apply(glove_tokenize)\n",
    "train_df['Summary_tokens_glove'] = train_df['Summary'].apply(glove_tokenize)"
   ]
  },
  {
   "cell_type": "code",
   "execution_count": null,
   "metadata": {},
   "outputs": [],
   "source": []
  }
 ],
 "metadata": {
  "kernelspec": {
   "display_name": "Python 3 (ipykernel)",
   "language": "python",
   "name": "python3"
  },
  "language_info": {
   "codemirror_mode": {
    "name": "ipython",
    "version": 3
   },
   "file_extension": ".py",
   "mimetype": "text/x-python",
   "name": "python",
   "nbconvert_exporter": "python",
   "pygments_lexer": "ipython3",
   "version": "3.11.7"
  }
 },
 "nbformat": 4,
 "nbformat_minor": 4
}
