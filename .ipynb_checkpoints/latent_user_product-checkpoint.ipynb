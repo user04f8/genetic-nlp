{
 "cells": [
  {
   "cell_type": "code",
   "execution_count": 1,
   "id": "5431c563-f5e0-4b9b-bba3-2906330ec4e4",
   "metadata": {},
   "outputs": [
    {
     "name": "stdout",
     "output_type": "stream",
     "text": [
      "Loading preprocessed Parquet files...... Done!\n"
     ]
    }
   ],
   "source": [
    "import pandas as pd\n",
    "import numpy as np\n",
    "\n",
    "from preprocess_data import load_preprocessed_data\n",
    "\n",
    "train_df, test_df = load_preprocessed_data()"
   ]
  },
  {
   "cell_type": "code",
   "execution_count": 2,
   "id": "cbb188f8-1393-4966-9ac4-1a836f4d458a",
   "metadata": {},
   "outputs": [],
   "source": [
    "import torch\n",
    "from torch.utils.data import Dataset, DataLoader\n",
    "import pandas as pd\n",
    "\n",
    "class UserProductDataset(Dataset):\n",
    "    def __init__(self, df):\n",
    "        self.users = torch.tensor(df['UserId'].astype('category').cat.codes.values)  # Encode UserId as category\n",
    "        self.products = torch.tensor(df['ProductId'].astype('category').cat.codes.values)  # Encode ProductId\n",
    "        self.scores = torch.tensor(df['Score'].values, dtype=torch.float32)\n",
    "\n",
    "        # Store number of users and products for later use in embedding layers\n",
    "        self.n_users = len(df['UserId'].unique())\n",
    "        self.n_products = len(df['ProductId'].unique())\n",
    "\n",
    "    def __len__(self):\n",
    "        return len(self.scores)\n",
    "\n",
    "    def __getitem__(self, idx):\n",
    "        return self.users[idx], self.products[idx], self.scores[idx]\n",
    "\n",
    "# Split data into train and validation\n",
    "train_size = int(0.8 * len(train_df))\n",
    "val_size = len(train_df) - train_size\n",
    "train_data, val_data = torch.utils.data.random_split(train_df, [train_size, val_size])\n",
    "\n",
    "# Create PyTorch datasets\n",
    "train_dataset = UserProductDataset(train_data.dataset.iloc[train_data.indices])\n",
    "val_dataset = UserProductDataset(val_data.dataset.iloc[val_data.indices])\n",
    "\n",
    "# Create DataLoaders\n",
    "train_loader = DataLoader(train_dataset, batch_size=1024, shuffle=True)\n",
    "val_loader = DataLoader(val_dataset, batch_size=1024)\n"
   ]
  },
  {
   "cell_type": "code",
   "execution_count": 3,
   "id": "c1c03930-54db-455a-8801-ada2f82e5988",
   "metadata": {},
   "outputs": [
    {
     "data": {
      "text/plain": [
       "tensor([1, 2, 3], device='cuda:0')"
      ]
     },
     "execution_count": 3,
     "metadata": {},
     "output_type": "execute_result"
    }
   ],
   "source": [
    "torch.tensor([1,2,3]).to(\"cuda\")  # NOTE this is an important catch for weird CUDA errors"
   ]
  },
  {
   "cell_type": "code",
   "execution_count": 4,
   "id": "bbc538db-f1b6-44c8-af17-ea8a4ee28762",
   "metadata": {},
   "outputs": [
    {
     "name": "stdout",
     "output_type": "stream",
     "text": [
      "User tensor sample: 70806\n",
      "Product tensor sample: 16931\n"
     ]
    },
    {
     "data": {
      "text/plain": [
       "MatrixFactorizationModel(\n",
       "  (user_factors): Embedding(123865, 50)\n",
       "  (product_factors): Embedding(50035, 50)\n",
       ")"
      ]
     },
     "execution_count": 4,
     "metadata": {},
     "output_type": "execute_result"
    }
   ],
   "source": [
    "import torch.nn as nn\n",
    "import torch.optim as optim\n",
    "\n",
    "class MatrixFactorizationModel(nn.Module):\n",
    "    def __init__(self, n_users, n_products, n_factors=50):\n",
    "        super(MatrixFactorizationModel, self).__init__()\n",
    "        self.user_factors = nn.Embedding(n_users, n_factors)  # User embedding\n",
    "        self.product_factors = nn.Embedding(n_products, n_factors)  # Product embedding\n",
    "\n",
    "    def forward(self, user, product):\n",
    "        user_embedding = self.user_factors(user)  # Shape: (batch_size, n_factors)\n",
    "        product_embedding = self.product_factors(product)  # Shape: (batch_size, n_factors)\n",
    "        \n",
    "        prediction = (user_embedding * product_embedding).sum(1)  # Dot product\n",
    "        return prediction\n",
    "\n",
    "print(f\"User tensor sample: {train_dataset[0][0]}\")  # Should print a user ID as an integer\n",
    "print(f\"Product tensor sample: {train_dataset[0][1]}\")  # Should print a product ID as an integer\n",
    "\n",
    "\n",
    "# Initialize the model\n",
    "n_factors = 50  # Number of latent factors\n",
    "model = MatrixFactorizationModel(train_dataset.n_users, train_dataset.n_products, n_factors)\n",
    "\n",
    "# Move model to GPU\n",
    "device = torch.device(\"cuda\" if torch.cuda.is_available() else \"cpu\")\n",
    "model.to(device)\n"
   ]
  }
 ],
 "metadata": {
  "kernelspec": {
   "display_name": "Python 3 (ipykernel)",
   "language": "python",
   "name": "python3"
  },
  "language_info": {
   "codemirror_mode": {
    "name": "ipython",
    "version": 3
   },
   "file_extension": ".py",
   "mimetype": "text/x-python",
   "name": "python",
   "nbconvert_exporter": "python",
   "pygments_lexer": "ipython3",
   "version": "3.11.7"
  }
 },
 "nbformat": 4,
 "nbformat_minor": 5
}
