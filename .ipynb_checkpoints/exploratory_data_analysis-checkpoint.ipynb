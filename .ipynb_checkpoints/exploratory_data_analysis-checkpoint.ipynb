{
 "cells": [
  {
   "cell_type": "code",
   "execution_count": 4,
   "metadata": {
    "vscode": {
     "languageId": "plaintext"
    }
   },
   "outputs": [
    {
     "name": "stdout",
     "output_type": "stream",
     "text": [
      "=== Basic Data Information ===\n",
      "<class 'pandas.core.frame.DataFrame'>\n",
      "RangeIndex: 1697533 entries, 0 to 1697532\n",
      "Data columns (total 9 columns):\n",
      " #   Column                  Dtype \n",
      "---  ------                  ----- \n",
      " 0   Id                      int32 \n",
      " 1   ProductId               object\n",
      " 2   UserId                  object\n",
      " 3   HelpfulnessNumerator    int32 \n",
      " 4   HelpfulnessDenominator  int32 \n",
      " 5   Time                    int32 \n",
      " 6   Summary_tokens          object\n",
      " 7   Text_tokens             object\n",
      " 8   Score                   int8  \n",
      "dtypes: int32(4), int8(1), object(4)\n",
      "memory usage: 79.3+ MB\n",
      "None\n",
      "\n",
      "=== Head of the Data ===\n",
      "        Id   ProductId          UserId  HelpfulnessNumerator  \\\n",
      "0   914403  B0009W5KHM   AV6QDP8Q0ONK4                     2   \n",
      "1   354887  6303079709  A2I8RXJN80A2D2                     0   \n",
      "2  1407653  B004H0M2XC  A3FHV3RV8Z12E6                     0   \n",
      "3  1377458  B003ZJ9536  A12VLTA3ZHVPUY                     1   \n",
      "4   475323  630574453X  A13NM1PES9OXVN                     2   \n",
      "\n",
      "   HelpfulnessDenominator        Time  \\\n",
      "0                       2  1341014400   \n",
      "1                       0  1168819200   \n",
      "2                       0  1386201600   \n",
      "3                       1  1348704000   \n",
      "4                       3   970012800   \n",
      "\n",
      "                                      Summary_tokens  \\\n",
      "0                    [11230, 3727, 29397, 34020, 44]   \n",
      "1                                      [25097, 6602]   \n",
      "2    [2215, 318, 340, 257, 922, 640, 284, 46869, 30]   \n",
      "3                                      [5446, 24318]   \n",
      "4  [5317, 32940, 290, 48666, 7277, 1377, 14768, 3...   \n",
      "\n",
      "                                         Text_tokens  Score  \n",
      "0  [3633, 749, 3892, 284, 12490, 7328, 389, 407, ...      5  \n",
      "1  [40, 423, 2227, 428, 530, 329, 17291, 11, 635,...      5  \n",
      "2  [26417, 428, 373, 257, 2495, 39189, 922, 19907...      4  \n",
      "3  [13807, 8052, 5214, 284, 7724, 286, 262, 2168,...      5  \n",
      "4  [40, 373, 1107, 12617, 351, 428, 3807, 11, 475...      3  \n"
     ]
    }
   ],
   "source": [
    "import numpy as np\n",
    "import pandas as pd\n",
    "import matplotlib.pyplot as plt\n",
    "import seaborn as sns\n",
    "\n",
    "from preprocess_data import load_preprocessed_data\n",
    "\n",
    "train_df, test_df = load_preprocessed_data()\n",
    "\n",
    "train_df.head()"
   ]
  },
  {
   "cell_type": "code",
   "execution_count": null,
   "metadata": {},
   "outputs": [],
   "source": []
  }
 ],
 "metadata": {
  "kernelspec": {
   "display_name": "Python 3 (ipykernel)",
   "language": "python",
   "name": "python3"
  },
  "language_info": {
   "codemirror_mode": {
    "name": "ipython",
    "version": 3
   },
   "file_extension": ".py",
   "mimetype": "text/x-python",
   "name": "python",
   "nbconvert_exporter": "python",
   "pygments_lexer": "ipython3",
   "version": "3.11.7"
  }
 },
 "nbformat": 4,
 "nbformat_minor": 4
}
